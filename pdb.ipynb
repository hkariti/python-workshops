{
 "cells": [
  {
   "cell_type": "markdown",
   "metadata": {},
   "source": [
    "# Debugging with PDB\n",
    "\n",
    "## Problem: Finding bugs"
   ]
  },
  {
   "cell_type": "code",
   "execution_count": null,
   "metadata": {},
   "outputs": [],
   "source": [
    "import numpy as np\n",
    "import time"
   ]
  },
  {
   "cell_type": "code",
   "execution_count": null,
   "metadata": {},
   "outputs": [],
   "source": [
    "def experiment_results():\n",
    "    time.sleep(5)\n",
    "    return {'cell1': [41, 34, 12], 'cell2': [23, 52, 23], 'cell3': [12, 14, 6]}\n",
    "\n",
    "def center_results(results):\n",
    "    return results - np.mean(results)\n",
    "\n",
    "def centered_results():\n",
    "    return center_results(experiment_results())"
   ]
  },
  {
   "cell_type": "code",
   "execution_count": null,
   "metadata": {},
   "outputs": [],
   "source": [
    "centered_results()"
   ]
  },
  {
   "cell_type": "markdown",
   "metadata": {},
   "source": [
    "## Solution 1: Adding prints"
   ]
  },
  {
   "cell_type": "code",
   "execution_count": null,
   "metadata": {},
   "outputs": [],
   "source": [
    "def experiment_results():\n",
    "    time.sleep(5)\n",
    "    return {'cell1': [41, 34, 12], 'cell2': [23, 52, 23], 'cell3': [12, 14, 6]}\n",
    "\n",
    "def center_results(results):\n",
    "    print(results)\n",
    "    return results - np.mean(results)\n",
    "\n",
    "def centered_results():\n",
    "    return center_results(experiment_results())"
   ]
  },
  {
   "cell_type": "code",
   "execution_count": null,
   "metadata": {},
   "outputs": [],
   "source": [
    "centered_results()"
   ]
  },
  {
   "cell_type": "markdown",
   "metadata": {},
   "source": [
    "## Solution 2: Using pdb"
   ]
  },
  {
   "cell_type": "code",
   "execution_count": null,
   "metadata": {},
   "outputs": [],
   "source": [
    "def experiment_results():\n",
    "    time.sleep(5)\n",
    "    return {'cell1': [41, 34, 12], 'cell2': [23, 52, 23], 'cell3': [12, 14, 6]}\n",
    "\n",
    "def center_results(results):\n",
    "    return results - np.mean(results)\n",
    "\n",
    "def centered_results():\n",
    "    return center_results(experiment_results())"
   ]
  },
  {
   "cell_type": "markdown",
   "metadata": {},
   "source": [
    "### Pdb cheatsheet\n",
    "\n",
    "* `h` - help\n",
    "* `n` - run next line\n",
    "* `s` - start debugging function in the next line\n",
    "* `p EXPR` - print EXPR (any expression)\n",
    "* `l` - show code\n",
    "* `u` - go up the stack, to calling function\n",
    "* `d` - go down the stack, to function we called\n",
    "* `bt` - show the strack trace\n",
    "* `q` - quit\n",
    "\n",
    "**REMEMBER TO QUIT PDB BEFORE RUNNING ANOTHER CELL OR JUPYTER WILL BE STUCK!**"
   ]
  },
  {
   "cell_type": "code",
   "execution_count": null,
   "metadata": {},
   "outputs": [],
   "source": [
    "%pdb on\n",
    "centered_results()"
   ]
  },
  {
   "cell_type": "markdown",
   "metadata": {},
   "source": [
    "## Other tricks"
   ]
  },
  {
   "cell_type": "markdown",
   "metadata": {},
   "source": [
    "## Manually calling pdb"
   ]
  },
  {
   "cell_type": "code",
   "execution_count": null,
   "metadata": {},
   "outputs": [],
   "source": [
    "import pdb\n",
    "\n",
    "def experiment_results():\n",
    "    time.sleep(5)\n",
    "    return {'cell1': [41, 34, 12], 'cell2': [23, 52, 23], 'cell3': [12, 14, 6]}\n",
    "\n",
    "def center_results(results):\n",
    "    pdb.set_trace()\n",
    "    return results - np.mean(results)\n",
    "\n",
    "def centered_results():\n",
    "    return center_results(list(experiment_results().values()))"
   ]
  },
  {
   "cell_type": "code",
   "execution_count": null,
   "metadata": {},
   "outputs": [],
   "source": [
    "centered_results()"
   ]
  },
  {
   "cell_type": "markdown",
   "metadata": {},
   "source": [
    "## Setting breakpoints while debugging"
   ]
  },
  {
   "cell_type": "markdown",
   "metadata": {},
   "source": [
    "* `break TARGET` - stop execution at `TARGET`. Can be a function name or `filename:line`\n",
    "* `c` - continue run until next breakpoint or error"
   ]
  },
  {
   "cell_type": "code",
   "execution_count": null,
   "metadata": {},
   "outputs": [],
   "source": [
    "import pdb\n",
    "\n",
    "def experiment_results():\n",
    "    time.sleep(5)\n",
    "    return {'cell1': [41, 34, 12], 'cell2': [23, 52, 23], 'cell3': [12, 14, 6]}\n",
    "\n",
    "def center_results(results):\n",
    "    return results - np.mean(results)\n",
    "\n",
    "def centered_results():\n",
    "    pdb.set_trace()\n",
    "    return center_results(list(experiment_results().values()))"
   ]
  },
  {
   "cell_type": "code",
   "execution_count": null,
   "metadata": {},
   "outputs": [],
   "source": [
    "centered_results()"
   ]
  },
  {
   "cell_type": "code",
   "execution_count": null,
   "metadata": {},
   "outputs": [],
   "source": []
  }
 ],
 "metadata": {
  "kernelspec": {
   "display_name": "Python 3",
   "language": "python",
   "name": "python3"
  },
  "language_info": {
   "codemirror_mode": {
    "name": "ipython",
    "version": 3
   },
   "file_extension": ".py",
   "mimetype": "text/x-python",
   "name": "python",
   "nbconvert_exporter": "python",
   "pygments_lexer": "ipython3",
   "version": "3.6.10"
  }
 },
 "nbformat": 4,
 "nbformat_minor": 4
}
